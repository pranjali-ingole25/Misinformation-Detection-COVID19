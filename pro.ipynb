{
 "cells": [
  {
   "cell_type": "code",
   "execution_count": 1,
   "id": "f2a69581",
   "metadata": {},
   "outputs": [],
   "source": [
    "import pandas as pd "
   ]
  },
  {
   "cell_type": "code",
   "execution_count": 2,
   "id": "8674e474",
   "metadata": {},
   "outputs": [],
   "source": [
    "dataset1 = pd.read_csv(\"D:/Misinformation detection project/Data/news_dataset.csv\")"
   ]
  },
  {
   "cell_type": "code",
   "execution_count": 3,
   "id": "4b1a74fe",
   "metadata": {},
   "outputs": [
    {
     "name": "stdout",
     "output_type": "stream",
     "text": [
      "(7588, 4)\n"
     ]
    }
   ],
   "source": [
    "print(dataset1.shape)   "
   ]
  },
  {
   "cell_type": "code",
   "execution_count": 4,
   "id": "fc3be94d",
   "metadata": {},
   "outputs": [
    {
     "name": "stdout",
     "output_type": "stream",
     "text": [
      "Index(['Date Posted', 'Text', 'Region', 'label'], dtype='object')\n"
     ]
    }
   ],
   "source": [
    "print(dataset1.columns)"
   ]
  },
  {
   "cell_type": "code",
   "execution_count": 5,
   "id": "8196bd63",
   "metadata": {},
   "outputs": [
    {
     "name": "stdout",
     "output_type": "stream",
     "text": [
      "  Date Posted                                               Text  \\\n",
      "0     4/17/20  NHS nurse gets round of applause after recover...   \n",
      "1     5/12/20  Zali Steggall increasingly concerned about Mor...   \n",
      "2      4/2/20   Trump's claim that he imposed the first trave...   \n",
      "3     3/28/20   Says for otherwise healthy people \"experienci...   \n",
      "4     3/15/20   A video shows an Italian doctor who says that...   \n",
      "\n",
      "          Region  label  \n",
      "0         Europe      1  \n",
      "1         Europe      1  \n",
      "2  United States      0  \n",
      "3  United States      0  \n",
      "4         Europe      0  \n"
     ]
    }
   ],
   "source": [
    "print(dataset1.head())  "
   ]
  },
  {
   "cell_type": "code",
   "execution_count": 6,
   "id": "4e0c3129",
   "metadata": {},
   "outputs": [
    {
     "name": "stdout",
     "output_type": "stream",
     "text": [
      "Date Posted    0\n",
      "Text           0\n",
      "Region         0\n",
      "label          0\n",
      "dtype: int64\n"
     ]
    }
   ],
   "source": [
    "print(dataset1.isnull().sum())     "
   ]
  },
  {
   "cell_type": "code",
   "execution_count": 7,
   "id": "258bd097",
   "metadata": {},
   "outputs": [
    {
     "name": "stdout",
     "output_type": "stream",
     "text": [
      "Duplicate: 332\n",
      "label\n",
      "0    3795\n",
      "1    3793\n",
      "Name: count, dtype: int64\n"
     ]
    },
    {
     "data": {
      "text/plain": [
       "label\n",
       "0    50.013179\n",
       "1    49.986821\n",
       "Name: proportion, dtype: float64"
      ]
     },
     "execution_count": 7,
     "metadata": {},
     "output_type": "execute_result"
    }
   ],
   "source": [
    "print(\"Duplicate:\", dataset1['Text'].duplicated().sum())\n",
    "print(dataset1['label'].value_counts())\n",
    "dataset1['label'].value_counts(normalize=True) * 100 "
   ]
  },
  {
   "cell_type": "code",
   "execution_count": 8,
   "id": "e5ce33a6",
   "metadata": {},
   "outputs": [],
   "source": [
    "dataset2 = dataset1.drop_duplicates(subset=['Text'], keep='first')"
   ]
  },
  {
   "cell_type": "code",
   "execution_count": 9,
   "id": "5b254f23",
   "metadata": {},
   "outputs": [
    {
     "name": "stdout",
     "output_type": "stream",
     "text": [
      "Duplicate titles: 0\n",
      "label\n",
      "1    3792\n",
      "0    3464\n",
      "Name: count, dtype: int64\n"
     ]
    },
    {
     "data": {
      "text/plain": [
       "label\n",
       "1    52.260198\n",
       "0    47.739802\n",
       "Name: proportion, dtype: float64"
      ]
     },
     "execution_count": 9,
     "metadata": {},
     "output_type": "execute_result"
    }
   ],
   "source": [
    "print(\"Duplicate titles:\", dataset2['Text'].duplicated().sum())\n",
    "print(dataset2['label'].value_counts())\n",
    "dataset2['label'].value_counts(normalize=True) * 100 \n"
   ]
  },
  {
   "cell_type": "code",
   "execution_count": 10,
   "id": "de0f3c5c",
   "metadata": {},
   "outputs": [
    {
     "data": {
      "text/html": [
       "<div>\n",
       "<style scoped>\n",
       "    .dataframe tbody tr th:only-of-type {\n",
       "        vertical-align: middle;\n",
       "    }\n",
       "\n",
       "    .dataframe tbody tr th {\n",
       "        vertical-align: top;\n",
       "    }\n",
       "\n",
       "    .dataframe thead th {\n",
       "        text-align: right;\n",
       "    }\n",
       "</style>\n",
       "<table border=\"1\" class=\"dataframe\">\n",
       "  <thead>\n",
       "    <tr style=\"text-align: right;\">\n",
       "      <th></th>\n",
       "      <th>Date Posted</th>\n",
       "      <th>Text</th>\n",
       "      <th>Region</th>\n",
       "      <th>label</th>\n",
       "    </tr>\n",
       "  </thead>\n",
       "  <tbody>\n",
       "    <tr>\n",
       "      <th>0</th>\n",
       "      <td>4/17/20</td>\n",
       "      <td>NHS nurse gets round of applause after recover...</td>\n",
       "      <td>Europe</td>\n",
       "      <td>1</td>\n",
       "    </tr>\n",
       "    <tr>\n",
       "      <th>1</th>\n",
       "      <td>5/12/20</td>\n",
       "      <td>Zali Steggall increasingly concerned about Mor...</td>\n",
       "      <td>Europe</td>\n",
       "      <td>1</td>\n",
       "    </tr>\n",
       "    <tr>\n",
       "      <th>2</th>\n",
       "      <td>4/2/20</td>\n",
       "      <td>Trump's claim that he imposed the first trave...</td>\n",
       "      <td>United States</td>\n",
       "      <td>0</td>\n",
       "    </tr>\n",
       "    <tr>\n",
       "      <th>3</th>\n",
       "      <td>3/28/20</td>\n",
       "      <td>Says for otherwise healthy people \"experienci...</td>\n",
       "      <td>United States</td>\n",
       "      <td>0</td>\n",
       "    </tr>\n",
       "    <tr>\n",
       "      <th>4</th>\n",
       "      <td>3/15/20</td>\n",
       "      <td>A video shows an Italian doctor who says that...</td>\n",
       "      <td>Europe</td>\n",
       "      <td>0</td>\n",
       "    </tr>\n",
       "  </tbody>\n",
       "</table>\n",
       "</div>"
      ],
      "text/plain": [
       "  Date Posted                                               Text  \\\n",
       "0     4/17/20  NHS nurse gets round of applause after recover...   \n",
       "1     5/12/20  Zali Steggall increasingly concerned about Mor...   \n",
       "2      4/2/20   Trump's claim that he imposed the first trave...   \n",
       "3     3/28/20   Says for otherwise healthy people \"experienci...   \n",
       "4     3/15/20   A video shows an Italian doctor who says that...   \n",
       "\n",
       "          Region  label  \n",
       "0         Europe      1  \n",
       "1         Europe      1  \n",
       "2  United States      0  \n",
       "3  United States      0  \n",
       "4         Europe      0  "
      ]
     },
     "execution_count": 10,
     "metadata": {},
     "output_type": "execute_result"
    }
   ],
   "source": [
    "dataset2.head()"
   ]
  },
  {
   "cell_type": "code",
   "execution_count": 11,
   "id": "c857eb90",
   "metadata": {},
   "outputs": [
    {
     "data": {
      "image/png": "[encoded data removed]",
      "text/plain": [
       "<Figure size 640x480 with 1 Axes>"
      ]
     },
     "metadata": {},
     "output_type": "display_data"
    }
   ],
   "source": [
    "import seaborn as sns\n",
    "import matplotlib.pyplot as plt\n",
    "\n",
    "# Count of fake vs real per region\n",
    "sns.countplot(data=dataset2, x='Region', hue='label')\n",
    "plt.title('Distribution of Fake(0) and Real(1) News by Region')\n",
    "plt.xticks(rotation=45)\n",
    "plt.tight_layout()\n",
    "plt.show()\n"
   ]
  },
  {
   "cell_type": "markdown",
   "id": "32355e48",
   "metadata": {},
   "source": []
  }
 ],
 "metadata": {
  "kernelspec": {
   "display_name": "venv",
   "language": "python",
   "name": "python3"
  },
  "language_info": {
   "codemirror_mode": {
    "name": "ipython",
    "version": 3
   },
   "file_extension": ".py",
   "mimetype": "text/x-python",
   "name": "python",
   "nbconvert_exporter": "python",
   "pygments_lexer": "ipython3",
   "version": "3.12.0"
  }
 },
 "nbformat": 4,
 "nbformat_minor": 5
}
